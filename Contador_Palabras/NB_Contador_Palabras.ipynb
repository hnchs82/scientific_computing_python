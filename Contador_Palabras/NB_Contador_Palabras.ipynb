{
 "cells": [
  {
   "cell_type": "markdown",
   "metadata": {},
   "source": [
    "Ejemplo contador de palabras basados en una lista\n",
    "# esta seria la forma manual de hacer el contador, tambien hay una forma automatica vista mas abajo basado \n",
    "# en una lista\n",
    "\n",
    "Ref:\n",
    "https://www.w3schools.com/python/python_lists.asp\n",
    "\n",
    "ref: \n",
    "https://stackoverflow.com/questions/5235916/word-frequency-program-in-python\n"
   ]
  },
  {
   "cell_type": "code",
   "execution_count": 8,
   "metadata": {},
   "outputs": [
    {
     "name": "stdout",
     "output_type": "stream",
     "text": [
      "Enter a File Path :./palabras.txt\n"
     ]
    }
   ],
   "source": [
    "import sys\n",
    "name = input('Enter a File Path :')\n",
    "handle = open(name)"
   ]
  },
  {
   "cell_type": "code",
   "execution_count": 9,
   "metadata": {},
   "outputs": [
    {
     "name": "stdout",
     "output_type": "stream",
     "text": [
      "./palabras.txt\n",
      "hola\n",
      "\n",
      "hola\n",
      "hola\n",
      "\n",
      "hola\n",
      "hola\n",
      "\n",
      "hola\n",
      "chao\n",
      "\n",
      "chao\n",
      "chao\n",
      "\n",
      "chao\n"
     ]
    }
   ],
   "source": [
    "counts = dict() # hace que la estructura counts se convierta en un diccionario\n",
    "print(name)\n",
    "for line in handle: # itera en el archivo pasado de input\n",
    "    print(line)\n",
    "    words = line.split() # corta cada linea leida en el archivo de input\n",
    "    # para cada palabra encontrada suma uno al contador, este contador en el valor del diccionario\n",
    "    for word in words: \n",
    "        print(word)\n",
    "        counts[word] = counts.get(word,0) + 1 # este metodo .get obtiene "
   ]
  },
  {
   "cell_type": "code",
   "execution_count": 10,
   "metadata": {},
   "outputs": [
    {
     "name": "stdout",
     "output_type": "stream",
     "text": [
      "{'hola': 3, 'chao': 2}\n"
     ]
    }
   ],
   "source": [
    "print(counts)"
   ]
  },
  {
   "cell_type": "markdown",
   "metadata": {},
   "source": [
    "pero si lo valores ya estaban en un diccionario, se podia usar una funcion predeterminada que cuenta los valores de un diccionario, ejemplo."
   ]
  },
  {
   "cell_type": "code",
   "execution_count": 11,
   "metadata": {},
   "outputs": [
    {
     "data": {
      "text/plain": [
       "Counter({'hello': 3, 'test': 1, 'string': 1, 'people': 1})"
      ]
     },
     "execution_count": 11,
     "metadata": {},
     "output_type": "execute_result"
    }
   ],
   "source": [
    "from collections import Counter\n",
    "c= Counter([\"hello\", \"test\", \"string\", \"people\", \"hello\", \"hello\"]) # lista de elementos\n",
    "c # esto devuelve un diccionario clave valor, que identifica cada palabra de la lista, los cuenta y en el \n",
    "# punto valor es que coloca el valor del contador."
   ]
  }
 ],
 "metadata": {
  "interpreter": {
   "hash": "40d3a090f54c6569ab1632332b64b2c03c39dcf918b08424e98f38b5ae0af88f"
  },
  "kernelspec": {
   "display_name": "Python 3 (ipykernel)",
   "language": "python",
   "name": "python3"
  },
  "language_info": {
   "codemirror_mode": {
    "name": "ipython",
    "version": 3
   },
   "file_extension": ".py",
   "mimetype": "text/x-python",
   "name": "python",
   "nbconvert_exporter": "python",
   "pygments_lexer": "ipython3",
   "version": "3.9.7"
  }
 },
 "nbformat": 4,
 "nbformat_minor": 2
}
